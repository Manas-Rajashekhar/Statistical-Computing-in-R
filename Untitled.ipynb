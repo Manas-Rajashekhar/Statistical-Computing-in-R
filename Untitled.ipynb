{
 "cells": [
  {
   "cell_type": "markdown",
   "metadata": {},
   "source": [
    "## Question 1 - Probabilities\n",
    "Suppose we are playing a simple collectable card game (e.g. like Hearthstone, or Magic the Gathering). In this game, each player has a card deck which contains 30 cards (with no duplicate cards). At the start of this game, both players shuffle their decks. \n",
    "Then the player going first draws five cards, and the player going second draws six cards. After this, the game starts, and players alternate turns.\n",
    "Each player draws an additional card at the start of their turn. So, for example, after their third turn player one should have drawn\n",
    "eight cards in total (the 5 cards they started with, plus another three cards over three turns). Player two should have drawn nine cards in total after their third turn.\n",
    "For the following questions, suppose there is a special combination of five cards, and if you have those five cards in your hand you instantly win the game."
   ]
  },
  {
   "cell_type": "markdown",
   "metadata": {},
   "source": [
    "## Question 1.a\n",
    "### What is the probability that the first player will draw this combination on their first turn and win the game immediately? What about the second player? Please give your answers as a fraction"
   ]
  },
  {
   "cell_type": "markdown",
   "metadata": {},
   "source": [
    "#### If the first player has to win on his first attempt , he nneeds to pick all special cards of the winning combination and there is only one\n",
    "way to do it Total no of combinations = choosing any 5 cards out of 30 is\n",
    "If the scond player has to win on his first attempt , he needs to pick all special cards of the winning combination and '1' regular card\n",
    "as we know player 2 picks 6 cards and there is only one way to pick all 5 special cards and 25 ways to choose one regular card.\n",
    "Total no of combinations = choosing any 6 cards out of 30 is probability of player two winning on first turn =\n",
    "$ \\ ^{30}C_{5} = \\frac{1}{142506} $\n",
    "\n",
    "\n",
    "\n",
    "\n",
    "If the scond player has to win on his first attempt , he needs to pick all special cards of the winning combination and '1' regular card as we know player 2 picks 6 cards and there is only one way to pick all 5 special cards and 25 ways to choose one regular card\n",
    "Total no of combinations = choosing any 6 cards out of 30 is $ \\ ^{30}C_{6} $  \n",
    "and , probability of player two winning on first turn = $ \\frac{25}{593775} $\n",
    "\n"
   ]
  },
  {
   "cell_type": "markdown",
   "metadata": {},
   "source": [
    "## Question 1.b\n",
    "### What is the probability that the five cards required for victory are all at the bottom of a player's deck (i.e. they are the last five cards"
   ]
  },
  {
   "cell_type": "markdown",
   "metadata": {},
   "source": [
    "If we chose to pick last 5 cards from the deck we can do so in $ \\ ^{30}C_{5} $  ways which is total no of combinations for only one combination , we get all 25 regualar cards at the starting and 5 special cards at the end of the deck probability of bottom deck to have last 5 cards which are special = $ \\ ^{30}C_{5} = \\frac{1}{142506} $\n",
    "\n",
    "\n",
    "\n"
   ]
  },
  {
   "cell_type": "markdown",
   "metadata": {},
   "source": [
    "## Question 1.c\n",
    "### Suppose a player has drawn 15 cards from their deck. What is the probability that all of the cards in the winning combination are still in their deck? Please give your answer as a fraction"
   ]
  },
  {
   "cell_type": "markdown",
   "metadata": {},
   "source": [
    "If a player has drawn 15 cards , the only way to still have winning combination in the deck is with '5' special cards and '10' regular cards. \n",
    "Total no of combinations = choosing any 15 cards from 30 cards = $ \\ ^{30}C_{15} $\n",
    "\n",
    "Probability of an event where the winning cards are still in deck = proability that only '10' regular cards of the '25' are still in deck with winning cards = $ \\frac{^{25}C_{10}}{^{30}C_{15}}  = \\frac{3268760}{155117520} $"
   ]
  },
  {
   "cell_type": "markdown",
   "metadata": {},
   "source": [
    "## Question 1.d\n",
    "### Suppose a player has 'n' drawn cards from their deck, where 'n' is between 0 and 30. What is the probability that all of the cards in the winning combination is still in their deck (i.e. that they have not drawn any piece of the winning combination yet) in terms of 'n'?\n",
    "\n",
    "If a player has drawn n cards , the only way to still have winning combination in the deck is with '5' special cards with regular cards or without any regular cards.\n",
    "\n",
    "Since 'n' can take values from 0 - 30 , we can say that there is winning combination until he '5' special cards are in the deck with 0 or more regular cards Total no of combinations = choosing n cards from 30 cards = $ {^{30}C_{n}} $ \n",
    "\n",
    "probability that winning cards are still in deck =  $ \\frac{^{25}C_{n-5}}{^{30}C_{n}} $\n",
    "\n",
    "we take n-5 because we need to consider drawing only regular cards leaving out the special winning combination"
   ]
  },
  {
   "cell_type": "markdown",
   "metadata": {},
   "source": [
    "## Question 2 - PDFs and Expectations\n",
    "Suppose we have defined a probability density function for a random variable $'X'$ as follows:\n",
    "\n",
    "\n",
    "\n",
    "\n",
    "\n",
    "Notice that our PDF has two constants, and . is a parameter, and is a coefficient which we will carefully choose so the integral\n",
    "of between and (with respect to ) is equal to ."
   ]
  },
  {
   "cell_type": "code",
   "execution_count": null,
   "metadata": {},
   "outputs": [],
   "source": []
  },
  {
   "cell_type": "code",
   "execution_count": null,
   "metadata": {},
   "outputs": [],
   "source": []
  }
 ],
 "metadata": {
  "kernelspec": {
   "display_name": "R",
   "language": "R",
   "name": "ir"
  },
  "language_info": {
   "codemirror_mode": "r",
   "file_extension": ".r",
   "mimetype": "text/x-r-source",
   "name": "R",
   "pygments_lexer": "r",
   "version": "3.6.1"
  }
 },
 "nbformat": 4,
 "nbformat_minor": 4
}
